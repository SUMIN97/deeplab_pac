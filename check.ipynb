{
 "cells": [
  {
   "cell_type": "code",
   "execution_count": 8,
   "metadata": {
    "collapsed": true
   },
   "outputs": [],
   "source": [
    "import torch\n",
    "from tqdm import tqdm\n",
    "import os\n",
    "import random\n",
    "import argparse\n",
    "import numpy as np\n",
    "from PIL import Image\n",
    "import torch\n",
    "import torchvision.transforms.functional as F"
   ]
  },
  {
   "cell_type": "code",
   "execution_count": 12,
   "outputs": [
    {
     "name": "stdout",
     "output_type": "stream",
     "text": [
      "(1024, 2048, 56)\n"
     ]
    }
   ],
   "source": [
    "a = np.load('/ssd1/DynamicConv/Detectron_Datasets/cityscapes/gtFine/neighbor/train/aachen_000000_000019_gtFine_neighbor.npy').astype(np.uint8)\n",
    "print(a.shape)\n",
    "\n",
    "# b = torch.from_numpy(a)\n",
    "# b = F.hflip(b)\n",
    "# b = F.hflip(b)\n",
    "#\n",
    "# c = np.array(b)\n",
    "# print(np.array_equal(a, c))"
   ],
   "metadata": {
    "collapsed": false,
    "pycharm": {
     "name": "#%%\n"
    }
   }
  },
  {
   "cell_type": "code",
   "execution_count": 13,
   "outputs": [
    {
     "data": {
      "text/plain": "array([ 3.04538348, 12.86212731,  4.50988888, 38.15694593, 35.25278402,\n       31.48260832, 45.79224482, 39.69406347,  6.06392819, 32.16484409,\n       17.10923372, 31.56332014, 47.33397233, 11.6106736 , 44.6004261 ,\n       45.23705196, 45.28288298, 48.1477694 , 41.92463183])"
     },
     "execution_count": 13,
     "metadata": {},
     "output_type": "execute_result"
    }
   ],
   "source": [
    "a = np.load('/ssd1/DynamicConv/Detectron_Datasets/cityscapes/cityscapes_class_weights.npy')\n",
    "a"
   ],
   "metadata": {
    "collapsed": false,
    "pycharm": {
     "name": "#%%\n"
    }
   }
  },
  {
   "cell_type": "code",
   "execution_count": null,
   "outputs": [],
   "source": [],
   "metadata": {
    "collapsed": false,
    "pycharm": {
     "name": "#%%\n"
    }
   }
  }
 ],
 "metadata": {
  "kernelspec": {
   "display_name": "Python 3",
   "language": "python",
   "name": "python3"
  },
  "language_info": {
   "codemirror_mode": {
    "name": "ipython",
    "version": 2
   },
   "file_extension": ".py",
   "mimetype": "text/x-python",
   "name": "python",
   "nbconvert_exporter": "python",
   "pygments_lexer": "ipython2",
   "version": "2.7.6"
  }
 },
 "nbformat": 4,
 "nbformat_minor": 0
}